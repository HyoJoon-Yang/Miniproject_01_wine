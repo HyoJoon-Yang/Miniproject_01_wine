# 1번 wine 테이블
from selenium import webdriver
from selenium.webdriver.common.keys import Keys
from selenium.webdriver.common.by import By
import time
browser = webdriver.Chrome()
browser.get("https://www.vivino.com/explore?e=eJzLLbI1VMvNzLM1NLI0NjBQy02ssDU1AAG15Epb7yC1ZCARrlYAVJWeZluWWJSZWpKYo5ZflGKbWJyslp9UaVtQlJmcCgAAlBaz")
before_h = browser.execute_script("return window.scrollY")
db = pymysql.connect(host='127.0.0.1', port=3306, user='root', passwd='1234', db='mywork', charset='utf8') # db 접근 코드1
cursor = db.cursor() # db접근 코드2

while True:
    browser.find_element_by_css_selector("body").send_keys(Keys.END)
    time.sleep(4)
    after_h = browser.execute_script("return window.scrollY")
    if after_h == before_h:
        break
    before_h = after_h
    
wines = browser.find_elements_by_css_selector('.wineCard__topSection--11oVj')
for wine in wines:
    name = wine.find_element_by_css_selector('.wineInfoVintage__vintage--VvWlU.wineInfoVintage__truncate--3QAtw').text
    price = float(wine.find_element_by_css_selector('.addToCart__subText--1pvFt.addToCart__ppcPrice--ydrd5').text[23:].replace(",",""))
    rating = float(wine.find_element_by_css_selector('.vivinoRating_averageValue__uDdPM').text)
    sql =   """insert ignore wine(name,price,rating) values("{}",{},{});""".format(name,round(price,0),rating) #db 3
    cursor.execute(sql) #db 4
db.commit() #db 5
db.close() #db 6



# 2번 wine_country 테이블
from selenium import webdriver
from selenium.webdriver.common.keys import Keys
from selenium.webdriver.common.by import By
import time
browser = webdriver.Chrome()
browser.implicitly_wait(5)
browser.get("https://www.vivino.com/explore?e=eJzLLbI1VMvNzLM1NAACtdzEClsjMCu50tY7SC0ZSISrFQDVpKfZliUWZaaWJOao5Rel2KakFier5SdV2hYllmTmpRfHJ-eX5pUAALoYGhc%3D") # 범위 따라 사이트주소 변경 필요
before_h = browser.execute_script("return window.scrollY")
db = pymysql.connect(host='127.0.0.1', port=3306, user='root', passwd='1234', db='mywork', charset='utf8') # db 접근 코드1
cursor = db.cursor() # db접근 코드2

while True:
    browser.find_element_by_css_selector("body").send_keys(Keys.END)
    time.sleep(4)
    after_h = browser.execute_script("return window.scrollY")
    if after_h == before_h:
        break
    before_h = after_h

wine_country = browser.find_elements_by_css_selector('.wineCard__topSection--11oVj')
for wine in wine_country:
    name = wine.find_element_by_css_selector('.wineInfoVintage__vintage--VvWlU.wineInfoVintage__truncate--3QAtw').text
    coun_city = wine.find_element_by_css_selector('.wineInfoLocation__regionAndCountry--1nEJz').text
    city =  coun_city.split(',')[0]
    country = coun_city.split(',')[1]    
    
    sql =   """insert ignore wine_country(name,country,city) values("{}","{}","{}");""".format(name,country,city) #db 3
    cursor.execute(sql) #db 4
db.commit() #db 5
db.close() #db 6


# 3번 wine_detail 테이블
from selenium import webdriver
from selenium.webdriver.common.keys import Keys
from selenium.webdriver import ActionChains
import time

browser = webdriver.Chrome()
browser.implicitly_wait(3)
browser.get("https://www.vivino.com/explore?e=eJzLLbI1VMvNzLM1NDU3NDBQy02ssDW0MDIDMpMrbb2D1JKBRLhaAVBVepptWWJRZmpJYo5aflGKbWJxslp-UqVtQVFmcqpaeUl0rK0hAKsmGPU%3D")

db = pymysql.connect(host='127.0.0.1', port=3306, user='root', passwd='1234', db='mywork', charset='utf8') # db 접근 코드1
cursor = db.cursor() # db접근 코드2

before_h = browser.execute_script("return window.scrollY")
while True:
    browser.find_element_by_css_selector("body").send_keys(Keys.END)
    time.sleep(2)
    after_h = browser.execute_script("return window.scrollY")
    
    if after_h == before_h:
        break
    before_h = after_h

i = 1
elems = browser.find_elements_by_css_selector('div.card__card--2R5Wh.wineCard__wineCardContent--3cwZt')
for elem in elems:
    
    ck = browser.find_element_by_xpath('//*[@id="explore-page-app"]/div/div/div[2]/div[2]/div[1]/div[{}]/div/a/div/div[2]/div/div[1]/div[2]'.format(i))
    ck.click()
    
    wine_name = browser.find_element_by_css_selector('span.vintage').text
    print("WineName :", wine_name)
    
    browser.find_element_by_css_selector("body").send_keys(Keys.PAGE_DOWN)
    time.sleep(2)
    
    try:
        if ck:
            some_tag_1 = browser.find_element_by_css_selector('div.col.mobile-column-6.tablet-column-8.desktop-column-8')
            action_1 = ActionChains(browser)
            action_1.move_to_element(some_tag_1).perform()
            time.sleep(1)
            
        taste_bolds = browser.find_element_by_xpath('//*[@id="wine-page-lower-section"]/div[1]/div/div[2]/div/div[2]/div[1]/table/tbody/tr[1]/td[2]/div/span')
        taste_bold = taste_bolds.get_attribute('style')
        wine_taste_bolds = taste_bold.split(' ')
        wine_taste_bold = float(wine_taste_bolds[3].strip(';% '))

        taste_tannics = browser.find_element_by_xpath('//*[@id="wine-page-lower-section"]/div[1]/div/div[2]/div/div[2]/div[1]/table/tbody/tr[2]/td[2]/div/span')
        taste_tannic = taste_tannics.get_attribute('style')
        wine_taste_tannics = taste_tannic.split(' ')
        wine_taste_tannic = float(wine_taste_tannics[3].strip(';% '))

        taste_sweets = browser.find_element_by_xpath('//*[@id="wine-page-lower-section"]/div[1]/div/div[2]/div/div[2]/div[1]/table/tbody/tr[3]/td[2]/div/span')
        taste_sweet = taste_sweets.get_attribute('style')
        wine_taste_sweets = taste_sweet.split(' ')
        wine_taste_sweet = float(wine_taste_sweets[3].strip(';% '))
        
        taste_acidics = browser.find_element_by_xpath('//*[@id="wine-page-lower-section"]/div[1]/div/div[2]/div/div[2]/div[1]/table/tbody/tr[4]/td[2]/div/span')
        taste_acidic = taste_acidics.get_attribute('style')
        wine_taste_acidics = taste_acidic.split(' ')
        wine_taste_acidic = float(wine_taste_acidics[3].strip(';% '))

    except:    
        wine_taste_bold = 0
        wine_taste_tannic = 0
        wine_taste_sweet = 0
        wine_taste_acidic = 0
      
          

    sql =   """insert ignore wine_detail(name, taste_LB, taste_ST, taste_DW, taste_SA) values("{}", {}, {}, {}, {});""".format(wine_name, wine_taste_bold, wine_taste_tannic, wine_taste_sweet, wine_taste_acidic) #db 3
    cursor.execute(sql) #db 4  
    
    browser.back()
    time.sleep(1)
    
    some_tag_2 = browser.find_element_by_xpath('//*[@id="explore-page-app"]/div/div/div[2]/div[2]/div[1]/div[{}]/div/a/div/div[2]/div/div[1]/div[2]'.format(i))
    action = ActionChains(browser)
    action.move_to_element(some_tag_2).perform()
    
    print(i)
    i += 1

db.commit() #db 5
db.close() #db 6
